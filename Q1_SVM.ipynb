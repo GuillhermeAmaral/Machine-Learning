{
 "cells": [
  {
   "cell_type": "markdown",
   "metadata": {},
   "source": [
    "## Utilizando SMV"
   ]
  },
  {
   "cell_type": "markdown",
   "metadata": {},
   "source": [
    "O objetivo de utilizar SVM para resolver esse problema é encontrar um hiperplano que separe as duas classes, ou seja, todos os pontos acima do hiperplano devem pertencer a uma mesma classe, o mesmo para a região abaixo do hiperplano. Para realizar essa tarefa pode-se utilizar diferentes tipos de kernel, mas usando o kernel linear obtem-se os coeficientes que descrevem o hiperplano."
   ]
  },
  {
   "cell_type": "markdown",
   "metadata": {},
   "source": [
    "### Bibliotecas"
   ]
  },
  {
   "cell_type": "code",
   "execution_count": 2,
   "metadata": {
    "collapsed": true
   },
   "outputs": [],
   "source": [
    "from sklearn import svm\n",
    "import numpy as np"
   ]
  },
  {
   "cell_type": "markdown",
   "metadata": {},
   "source": [
    "## Dados de treino"
   ]
  },
  {
   "cell_type": "code",
   "execution_count": 3,
   "metadata": {
    "collapsed": true
   },
   "outputs": [],
   "source": [
    "training_data = np.array([[0,0,0], [1,0,0], [1,0,1], [1,1,0], [0,0,1], [0,1,1], [0,1,0], [1,1,1]])\n",
    "class_training_data = np.array(['C1', 'C1', 'C1', 'C1', 'C2', 'C2', 'C2', 'C2'])"
   ]
  },
  {
   "cell_type": "markdown",
   "metadata": {},
   "source": [
    "## Implementação da SVM usando kernel linear"
   ]
  },
  {
   "cell_type": "code",
   "execution_count": 5,
   "metadata": {},
   "outputs": [
    {
     "data": {
      "text/plain": [
       "SVC(C=1, cache_size=200, class_weight=None, coef0=0.0,\n",
       "  decision_function_shape='ovr', degree=3, gamma='auto', kernel='linear',\n",
       "  max_iter=-1, probability=False, random_state=None, shrinking=True,\n",
       "  tol=0.001, verbose=False)"
      ]
     },
     "execution_count": 5,
     "metadata": {},
     "output_type": "execute_result"
    }
   ],
   "source": [
    "clf = svm.SVC(kernel='linear', C=1)\n",
    "clf.fit(training_data, class_training_data)"
   ]
  },
  {
   "cell_type": "markdown",
   "metadata": {},
   "source": [
    "O parâmetro C no código acima indica a penalidade por um erro e utilizando diferentes valores obtem-se resultados diferentes. Os coeficientes do hiperplano são obtidos da seguinte forma:"
   ]
  },
  {
   "cell_type": "code",
   "execution_count": 6,
   "metadata": {},
   "outputs": [
    {
     "name": "stdout",
     "output_type": "stream",
     "text": [
      "Coeficientes do hiperplano:  [[-1.  1.  1.]]\n",
      "Termo independente [-0.5]\n"
     ]
    }
   ],
   "source": [
    "print('Coeficientes do hiperplano: ', clf.coef_)\n",
    "print('Termo independente', clf.intercept_)"
   ]
  },
  {
   "cell_type": "code",
   "execution_count": 7,
   "metadata": {},
   "outputs": [
    {
     "name": "stdout",
     "output_type": "stream",
     "text": [
      "Coeficientes do hiperplano:  [[-1.99969517  1.99969517  1.99939034]]\n",
      "Termo independente [-0.99969517]\n"
     ]
    }
   ],
   "source": [
    "clf = svm.SVC(kernel='linear', C=10)\n",
    "clf.fit(training_data, class_training_data)\n",
    "print('Coeficientes do hiperplano: ', clf.coef_)\n",
    "print('Termo independente', clf.intercept_)"
   ]
  },
  {
   "cell_type": "code",
   "execution_count": 11,
   "metadata": {},
   "outputs": [
    {
     "name": "stdout",
     "output_type": "stream",
     "text": [
      "Coeficientes do hiperplano:  [[-0.2  0.2  0.2]]\n",
      "Termo independente [-0.1]\n"
     ]
    }
   ],
   "source": [
    "clf = svm.SVC(kernel='linear', C=0.1)\n",
    "clf.fit(training_data, class_training_data)\n",
    "print('Coeficientes do hiperplano: ', clf.coef_)\n",
    "print('Termo independente', clf.intercept_)"
   ]
  },
  {
   "cell_type": "markdown",
   "metadata": {},
   "source": [
    "Todos os resultados acima geram o mesmo hiperplano de equação $Z = X - Y + 0.5$, o qual é mostrado na figura abaixo, onde os pontos em azul pertencem a classe C1 e os pontos em vermelho a classe C2."
   ]
  },
  {
   "cell_type": "markdown",
   "metadata": {},
   "source": [
    "![Hiperplano](https://i.imgur.com/mpcI0un.png)"
   ]
  },
  {
   "cell_type": "markdown",
   "metadata": {},
   "source": [
    "![C1](https://imgur.com/YcBz266.png)"
   ]
  },
  {
   "cell_type": "markdown",
   "metadata": {},
   "source": [
    "![C2](https://i.imgur.com/mYRbpbF.png)"
   ]
  }
 ],
 "metadata": {
  "kernelspec": {
   "display_name": "Python 3",
   "language": "python",
   "name": "python3"
  },
  "language_info": {
   "codemirror_mode": {
    "name": "ipython",
    "version": 3
   },
   "file_extension": ".py",
   "mimetype": "text/x-python",
   "name": "python",
   "nbconvert_exporter": "python",
   "pygments_lexer": "ipython3",
   "version": "3.6.3"
  }
 },
 "nbformat": 4,
 "nbformat_minor": 2
}
