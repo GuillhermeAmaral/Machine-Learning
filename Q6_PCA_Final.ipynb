{
 "cells": [
  {
   "cell_type": "markdown",
   "metadata": {},
   "source": [
    "# Importar as bibliotecas"
   ]
  },
  {
   "cell_type": "code",
   "execution_count": 1,
   "metadata": {
    "collapsed": true
   },
   "outputs": [],
   "source": [
    "import pandas as pd\n",
    "import numpy as np"
   ]
  },
  {
   "cell_type": "markdown",
   "metadata": {},
   "source": [
    "A tabela do problema foi salva como um arquivo csv que é lido e salvo na variável 'data' na linha abaixo"
   ]
  },
  {
   "cell_type": "code",
   "execution_count": 2,
   "metadata": {
    "collapsed": true
   },
   "outputs": [],
   "source": [
    "data = pd.read_csv('Amostras_solo.txt')"
   ]
  },
  {
   "cell_type": "markdown",
   "metadata": {},
   "source": [
    "## Funções utilizadas"
   ]
  },
  {
   "cell_type": "code",
   "execution_count": 3,
   "metadata": {
    "collapsed": true
   },
   "outputs": [],
   "source": [
    "def mining(data):\n",
    "    length = data.shape[1]\n",
    "    X = []\n",
    "    columns = data.columns\n",
    "    for i in range(length):\n",
    "        X.append(list(data[columns[i]]))\n",
    "    return X\n",
    "\n",
    "def estatistica(param):\n",
    "    media = np.mean(param)\n",
    "    mediana = np.median(param)\n",
    "    desvio = np.std(param)\n",
    "    maxi = np.max(param)\n",
    "    mini = np.min(param)\n",
    "    return media, mediana, desvio, maxi, mini\n",
    "\n",
    "def cov_M(params):\n",
    "    M = np.matrix(params)\n",
    "    cov = np.matrix(np.cov(M))\n",
    "    return cov, M"
   ]
  },
  {
   "cell_type": "markdown",
   "metadata": {},
   "source": [
    "Abaixo, o código utilizado para gerar uma tebela com os parâmetros: Média, mediana, desvio, valor máximo (max) e valor mínimo (min)."
   ]
  },
  {
   "cell_type": "code",
   "execution_count": 4,
   "metadata": {},
   "outputs": [
    {
     "name": "stdout",
     "output_type": "stream",
     "text": [
      "             Areia     Argila  Mat. Organ  Sedimentos\n",
      "media    67.779167  10.195833    2.833333   22.108333\n",
      "mediana  67.450000  10.150000    2.850000   22.900000\n",
      "desvio    8.085789   3.032529    0.810692    6.182699\n",
      "max      83.700000  17.600000    4.400000   32.800000\n",
      "min      55.900000   5.800000    0.900000   10.500000\n"
     ]
    }
   ],
   "source": [
    "params = mining(data) #lista que pode ser uma matrix 4x24\n",
    "est = {}\n",
    "columns = data.columns\n",
    "for i in range(data.shape[1]):\n",
    "    c = columns[i].split('(')[0]\n",
    "    est[c] = list(estatistica(params[i]))\n",
    "index = ['media', 'mediana', 'desvio', 'max', 'min']\n",
    "estFrame = pd.DataFrame(est, index = index)\n",
    "print(estFrame)"
   ]
  },
  {
   "cell_type": "markdown",
   "metadata": {},
   "source": [
    "A matriz de covariância é calculada abaixo: "
   ]
  },
  {
   "cell_type": "code",
   "execution_count": 5,
   "metadata": {},
   "outputs": [
    {
     "name": "stdout",
     "output_type": "stream",
     "text": [
      "Matriz de covariancia\n",
      "[[ 6.82225906e+01 -4.89132971e+01 -1.83770471e+01  1.79855072e+00]\n",
      " [-4.89132971e+01  3.98877536e+01  8.52047101e+00 -1.81420290e+00]\n",
      " [-1.83770471e+01  8.52047101e+00  9.59606884e+00 -1.33333333e-02]\n",
      " [ 1.79855072e+00 -1.81420290e+00 -1.33333333e-02  6.85797101e-01]]\n"
     ]
    }
   ],
   "source": [
    "cov, M = cov_M(params)\n",
    "print(\"Matriz de covariancia\")\n",
    "print(cov)"
   ]
  },
  {
   "cell_type": "markdown",
   "metadata": {},
   "source": [
    "Os autovalores e autovetores são calculados utilizando o numpy, como é mostrado abaixo"
   ]
  },
  {
   "cell_type": "code",
   "execution_count": 6,
   "metadata": {},
   "outputs": [
    {
     "name": "stdout",
     "output_type": "stream",
     "text": [
      "autovalor\n",
      "[1.08992777e+02 8.76606779e+00 5.01274801e-02 5.83237986e-01]\n",
      "autovetor\n",
      "[[-0.78838911  0.22921536 -0.5701868  -0.02810589]\n",
      " [ 0.58276295  0.57071056 -0.57778339  0.02903718]\n",
      " [ 0.1957206  -0.78485716 -0.58202768 -0.08328544]\n",
      " [-0.02287773 -0.07582228 -0.04792865  0.995706  ]]\n"
     ]
    }
   ],
   "source": [
    "autovalor, autovetor = np.linalg.eig(cov)\n",
    "print('autovalor')\n",
    "print(autovalor)\n",
    "\n",
    "print('autovetor')\n",
    "print(autovetor)"
   ]
  },
  {
   "cell_type": "code",
   "execution_count": 7,
   "metadata": {
    "scrolled": true
   },
   "outputs": [
    {
     "name": "stdout",
     "output_type": "stream",
     "text": [
      "Autovalores em ordem decrescente\n",
      "[0.5832379864395187, 0.0501274800752674, 8.766067786898015, 108.99277689151481]\n"
     ]
    }
   ],
   "source": [
    "val = list(autovalor)\n",
    "val.reverse()\n",
    "print('Autovalores em ordem decrescente')\n",
    "print(val)"
   ]
  },
  {
   "cell_type": "markdown",
   "metadata": {},
   "source": [
    "O traço da matriz de covariância é igual a soma dos autovalores"
   ]
  },
  {
   "cell_type": "code",
   "execution_count": 8,
   "metadata": {},
   "outputs": [
    {
     "name": "stdout",
     "output_type": "stream",
     "text": [
      "Traço da matriz de covariância\n",
      "118.39221014492753\n",
      "Soma de todos os autovalores\n",
      "118.3922101449276\n"
     ]
    }
   ],
   "source": [
    "print('Traço da matriz de covariância')\n",
    "print(np.trace(cov))\n",
    "\n",
    "print('Soma de todos os autovalores')\n",
    "print(sum(autovalor))\n"
   ]
  },
  {
   "cell_type": "markdown",
   "metadata": {},
   "source": [
    "A equação dos componentes principais é mostrada a seguir:"
   ]
  },
  {
   "cell_type": "code",
   "execution_count": 9,
   "metadata": {},
   "outputs": [
    {
     "name": "stdout",
     "output_type": "stream",
     "text": [
      "Y = [[-0.78838911  0.58276295  0.1957206  -0.02287773]]X1 + [[ 0.22921536  0.57071056 -0.78485716 -0.07582228]]X2[[-0.5701868  -0.57778339 -0.58202768 -0.04792865]]X3 + [[-0.02810589  0.02903718 -0.08328544  0.995706  ]]X4\n"
     ]
    }
   ],
   "source": [
    "print('Y = ' + str(autovetor[:,0].T) + 'X1' + ' + ' + str(autovetor[:,1].T) + 'X2' + \n",
    "      str(autovetor[:,2].T) + 'X3' + ' + ' + str(autovetor[:,3].T) + 'X4')"
   ]
  },
  {
   "cell_type": "markdown",
   "metadata": {},
   "source": [
    "O percentual de variância é obtido com o trecho de código abaixo"
   ]
  },
  {
   "cell_type": "code",
   "execution_count": 10,
   "metadata": {},
   "outputs": [
    {
     "name": "stdout",
     "output_type": "stream",
     "text": [
      "[0.9206076713838972, 0.07404260614923226, 0.0004234018438705113, 0.004926320623000102]\n"
     ]
    }
   ],
   "source": [
    "autoval = []\n",
    "var = sum(autovalor)\n",
    "for i in range(len(autovalor)):\n",
    "    autoval.append(autovalor[i]/var)\n",
    "\n",
    "print(autoval)"
   ]
  },
  {
   "cell_type": "markdown",
   "metadata": {},
   "source": [
    "Sendo assim, de acordo com a sequência dos dados da tabela inicial, os componentes mais importantes em ordem decrescente são: Areia, sedimentos, matéria orgânica e argila"
   ]
  }
 ],
 "metadata": {
  "kernelspec": {
   "display_name": "Python 3",
   "language": "python",
   "name": "python3"
  },
  "language_info": {
   "codemirror_mode": {
    "name": "ipython",
    "version": 3
   },
   "file_extension": ".py",
   "mimetype": "text/x-python",
   "name": "python",
   "nbconvert_exporter": "python",
   "pygments_lexer": "ipython3",
   "version": "3.6.3"
  }
 },
 "nbformat": 4,
 "nbformat_minor": 2
}
