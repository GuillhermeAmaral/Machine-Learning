{
 "cells": [
  {
   "cell_type": "markdown",
   "metadata": {},
   "source": [
    "# Importar as bibliotecas"
   ]
  },
  {
   "cell_type": "code",
   "execution_count": 1,
   "metadata": {
    "collapsed": true
   },
   "outputs": [],
   "source": [
    "import pandas as pd\n",
    "import numpy as np"
   ]
  },
  {
   "cell_type": "markdown",
   "metadata": {},
   "source": [
    "A tabela do problema foi salva como um arquivo csv que é lido e salvo na variável 'data' na linha abaixo"
   ]
  },
  {
   "cell_type": "code",
   "execution_count": 12,
   "metadata": {},
   "outputs": [
    {
     "data": {
      "text/html": [
       "<div>\n",
       "<style>\n",
       "    .dataframe thead tr:only-child th {\n",
       "        text-align: right;\n",
       "    }\n",
       "\n",
       "    .dataframe thead th {\n",
       "        text-align: left;\n",
       "    }\n",
       "\n",
       "    .dataframe tbody tr th {\n",
       "        vertical-align: top;\n",
       "    }\n",
       "</style>\n",
       "<table border=\"1\" class=\"dataframe\">\n",
       "  <thead>\n",
       "    <tr style=\"text-align: right;\">\n",
       "      <th></th>\n",
       "      <th>Areia(%):X_1</th>\n",
       "      <th>Sedimentos(%):X_2</th>\n",
       "      <th>Argila(%):X_3</th>\n",
       "      <th>Mat. Organ(%):X_4</th>\n",
       "    </tr>\n",
       "  </thead>\n",
       "  <tbody>\n",
       "    <tr>\n",
       "      <th>0</th>\n",
       "      <td>79.9</td>\n",
       "      <td>13.9</td>\n",
       "      <td>6.2</td>\n",
       "      <td>3.3</td>\n",
       "    </tr>\n",
       "    <tr>\n",
       "      <th>1</th>\n",
       "      <td>78.5</td>\n",
       "      <td>16.3</td>\n",
       "      <td>7.2</td>\n",
       "      <td>2.5</td>\n",
       "    </tr>\n",
       "    <tr>\n",
       "      <th>2</th>\n",
       "      <td>68.9</td>\n",
       "      <td>22.6</td>\n",
       "      <td>8.5</td>\n",
       "      <td>3.6</td>\n",
       "    </tr>\n",
       "    <tr>\n",
       "      <th>3</th>\n",
       "      <td>62.2</td>\n",
       "      <td>20.2</td>\n",
       "      <td>17.6</td>\n",
       "      <td>2.8</td>\n",
       "    </tr>\n",
       "    <tr>\n",
       "      <th>4</th>\n",
       "      <td>69.2</td>\n",
       "      <td>23.7</td>\n",
       "      <td>7.1</td>\n",
       "      <td>0.9</td>\n",
       "    </tr>\n",
       "    <tr>\n",
       "      <th>5</th>\n",
       "      <td>67.8</td>\n",
       "      <td>19.8</td>\n",
       "      <td>12.4</td>\n",
       "      <td>3.8</td>\n",
       "    </tr>\n",
       "    <tr>\n",
       "      <th>6</th>\n",
       "      <td>61.3</td>\n",
       "      <td>24.9</td>\n",
       "      <td>13.8</td>\n",
       "      <td>2.2</td>\n",
       "    </tr>\n",
       "    <tr>\n",
       "      <th>7</th>\n",
       "      <td>71.6</td>\n",
       "      <td>19.2</td>\n",
       "      <td>9.2</td>\n",
       "      <td>3.6</td>\n",
       "    </tr>\n",
       "    <tr>\n",
       "      <th>8</th>\n",
       "      <td>83.7</td>\n",
       "      <td>10.5</td>\n",
       "      <td>5.8</td>\n",
       "      <td>4.4</td>\n",
       "    </tr>\n",
       "    <tr>\n",
       "      <th>9</th>\n",
       "      <td>67.1</td>\n",
       "      <td>26.5</td>\n",
       "      <td>6.4</td>\n",
       "      <td>1.4</td>\n",
       "    </tr>\n",
       "    <tr>\n",
       "      <th>10</th>\n",
       "      <td>59.8</td>\n",
       "      <td>27.9</td>\n",
       "      <td>12.3</td>\n",
       "      <td>3.5</td>\n",
       "    </tr>\n",
       "    <tr>\n",
       "      <th>11</th>\n",
       "      <td>66.7</td>\n",
       "      <td>23.2</td>\n",
       "      <td>10.1</td>\n",
       "      <td>2.9</td>\n",
       "    </tr>\n",
       "    <tr>\n",
       "      <th>12</th>\n",
       "      <td>72.8</td>\n",
       "      <td>14.5</td>\n",
       "      <td>12.7</td>\n",
       "      <td>1.9</td>\n",
       "    </tr>\n",
       "    <tr>\n",
       "      <th>13</th>\n",
       "      <td>60.9</td>\n",
       "      <td>28.9</td>\n",
       "      <td>10.2</td>\n",
       "      <td>1.5</td>\n",
       "    </tr>\n",
       "    <tr>\n",
       "      <th>14</th>\n",
       "      <td>61.4</td>\n",
       "      <td>29.2</td>\n",
       "      <td>9.4</td>\n",
       "      <td>2.5</td>\n",
       "    </tr>\n",
       "    <tr>\n",
       "      <th>15</th>\n",
       "      <td>75.0</td>\n",
       "      <td>16.8</td>\n",
       "      <td>8.2</td>\n",
       "      <td>3.1</td>\n",
       "    </tr>\n",
       "    <tr>\n",
       "      <th>16</th>\n",
       "      <td>80.5</td>\n",
       "      <td>11.9</td>\n",
       "      <td>7.6</td>\n",
       "      <td>3.8</td>\n",
       "    </tr>\n",
       "    <tr>\n",
       "      <th>17</th>\n",
       "      <td>71.3</td>\n",
       "      <td>18.5</td>\n",
       "      <td>10.2</td>\n",
       "      <td>2.6</td>\n",
       "    </tr>\n",
       "    <tr>\n",
       "      <th>18</th>\n",
       "      <td>56.6</td>\n",
       "      <td>28.9</td>\n",
       "      <td>14.5</td>\n",
       "      <td>2.8</td>\n",
       "    </tr>\n",
       "    <tr>\n",
       "      <th>19</th>\n",
       "      <td>55.9</td>\n",
       "      <td>32.8</td>\n",
       "      <td>11.3</td>\n",
       "      <td>3.1</td>\n",
       "    </tr>\n",
       "    <tr>\n",
       "      <th>20</th>\n",
       "      <td>61.5</td>\n",
       "      <td>28.1</td>\n",
       "      <td>10.4</td>\n",
       "      <td>2.7</td>\n",
       "    </tr>\n",
       "    <tr>\n",
       "      <th>21</th>\n",
       "      <td>59.2</td>\n",
       "      <td>28.4</td>\n",
       "      <td>12.4</td>\n",
       "      <td>2.8</td>\n",
       "    </tr>\n",
       "    <tr>\n",
       "      <th>22</th>\n",
       "      <td>76.9</td>\n",
       "      <td>16.3</td>\n",
       "      <td>6.8</td>\n",
       "      <td>2.9</td>\n",
       "    </tr>\n",
       "    <tr>\n",
       "      <th>23</th>\n",
       "      <td>58.0</td>\n",
       "      <td>27.6</td>\n",
       "      <td>14.4</td>\n",
       "      <td>3.4</td>\n",
       "    </tr>\n",
       "  </tbody>\n",
       "</table>\n",
       "</div>"
      ],
      "text/plain": [
       "    Areia(%):X_1  Sedimentos(%):X_2  Argila(%):X_3  Mat. Organ(%):X_4\n",
       "0           79.9               13.9            6.2                3.3\n",
       "1           78.5               16.3            7.2                2.5\n",
       "2           68.9               22.6            8.5                3.6\n",
       "3           62.2               20.2           17.6                2.8\n",
       "4           69.2               23.7            7.1                0.9\n",
       "5           67.8               19.8           12.4                3.8\n",
       "6           61.3               24.9           13.8                2.2\n",
       "7           71.6               19.2            9.2                3.6\n",
       "8           83.7               10.5            5.8                4.4\n",
       "9           67.1               26.5            6.4                1.4\n",
       "10          59.8               27.9           12.3                3.5\n",
       "11          66.7               23.2           10.1                2.9\n",
       "12          72.8               14.5           12.7                1.9\n",
       "13          60.9               28.9           10.2                1.5\n",
       "14          61.4               29.2            9.4                2.5\n",
       "15          75.0               16.8            8.2                3.1\n",
       "16          80.5               11.9            7.6                3.8\n",
       "17          71.3               18.5           10.2                2.6\n",
       "18          56.6               28.9           14.5                2.8\n",
       "19          55.9               32.8           11.3                3.1\n",
       "20          61.5               28.1           10.4                2.7\n",
       "21          59.2               28.4           12.4                2.8\n",
       "22          76.9               16.3            6.8                2.9\n",
       "23          58.0               27.6           14.4                3.4"
      ]
     },
     "execution_count": 12,
     "metadata": {},
     "output_type": "execute_result"
    }
   ],
   "source": [
    "data = pd.read_csv('Amostras_solo.txt')\n",
    "data"
   ]
  },
  {
   "cell_type": "markdown",
   "metadata": {},
   "source": [
    "## Funções utilizadas"
   ]
  },
  {
   "cell_type": "code",
   "execution_count": 3,
   "metadata": {
    "collapsed": true
   },
   "outputs": [],
   "source": [
    "def mining(data):\n",
    "    length = data.shape[1]\n",
    "    X = []\n",
    "    columns = data.columns\n",
    "    for i in range(length):\n",
    "        X.append(list(data[columns[i]]))\n",
    "    return X\n",
    "\n",
    "def estatistica(param):\n",
    "    media = np.mean(param)\n",
    "    mediana = np.median(param)\n",
    "    desvio = np.std(param)\n",
    "    maxi = np.max(param)\n",
    "    mini = np.min(param)\n",
    "    return media, mediana, desvio, maxi, mini\n",
    "\n",
    "def cov_M(params):\n",
    "    M = np.matrix(params)\n",
    "    cov = np.matrix(np.cov(M))\n",
    "    return cov, M"
   ]
  },
  {
   "cell_type": "markdown",
   "metadata": {},
   "source": [
    "Abaixo, o código utilizado para gerar uma tebela com os parâmetros: Média, mediana, desvio, valor máximo (max) e valor mínimo (min)."
   ]
  },
  {
   "cell_type": "code",
   "execution_count": 4,
   "metadata": {},
   "outputs": [
    {
     "name": "stdout",
     "output_type": "stream",
     "text": [
      "             Areia     Argila  Mat. Organ  Sedimentos\n",
      "media    67.779167  10.195833    2.833333   22.108333\n",
      "mediana  67.450000  10.150000    2.850000   22.900000\n",
      "desvio    8.085789   3.032529    0.810692    6.182699\n",
      "max      83.700000  17.600000    4.400000   32.800000\n",
      "min      55.900000   5.800000    0.900000   10.500000\n"
     ]
    }
   ],
   "source": [
    "params = mining(data) #lista que pode ser uma matrix 4x24\n",
    "est = {}\n",
    "columns = data.columns\n",
    "for i in range(data.shape[1]):\n",
    "    c = columns[i].split('(')[0]\n",
    "    est[c] = list(estatistica(params[i]))\n",
    "index = ['media', 'mediana', 'desvio', 'max', 'min']\n",
    "estFrame = pd.DataFrame(est, index = index)\n",
    "print(estFrame)"
   ]
  },
  {
   "cell_type": "markdown",
   "metadata": {},
   "source": [
    "A matriz de covariância é calculada abaixo: "
   ]
  },
  {
   "cell_type": "code",
   "execution_count": 5,
   "metadata": {},
   "outputs": [
    {
     "name": "stdout",
     "output_type": "stream",
     "text": [
      "Matriz de covariancia\n",
      "[[ 6.82225906e+01 -4.89132971e+01 -1.83770471e+01  1.79855072e+00]\n",
      " [-4.89132971e+01  3.98877536e+01  8.52047101e+00 -1.81420290e+00]\n",
      " [-1.83770471e+01  8.52047101e+00  9.59606884e+00 -1.33333333e-02]\n",
      " [ 1.79855072e+00 -1.81420290e+00 -1.33333333e-02  6.85797101e-01]]\n"
     ]
    }
   ],
   "source": [
    "cov, M = cov_M(params)\n",
    "print(\"Matriz de covariancia\")\n",
    "print(cov)"
   ]
  },
  {
   "cell_type": "markdown",
   "metadata": {},
   "source": [
    "Os autovalores e autovetores são calculados utilizando o numpy, como é mostrado abaixo"
   ]
  },
  {
   "cell_type": "code",
   "execution_count": 6,
   "metadata": {},
   "outputs": [
    {
     "name": "stdout",
     "output_type": "stream",
     "text": [
      "autovalor\n",
      "[1.08992777e+02 8.76606779e+00 5.01274801e-02 5.83237986e-01]\n",
      "autovetor\n",
      "[[-0.78838911  0.22921536 -0.5701868  -0.02810589]\n",
      " [ 0.58276295  0.57071056 -0.57778339  0.02903718]\n",
      " [ 0.1957206  -0.78485716 -0.58202768 -0.08328544]\n",
      " [-0.02287773 -0.07582228 -0.04792865  0.995706  ]]\n"
     ]
    }
   ],
   "source": [
    "autovalor, autovetor = np.linalg.eig(cov)\n",
    "print('autovalor')\n",
    "print(autovalor)\n",
    "\n",
    "print('autovetor')\n",
    "print(autovetor)"
   ]
  },
  {
   "cell_type": "code",
   "execution_count": 7,
   "metadata": {
    "scrolled": true
   },
   "outputs": [
    {
     "name": "stdout",
     "output_type": "stream",
     "text": [
      "Autovalores em ordem decrescente\n",
      "[0.5832379864395187, 0.0501274800752674, 8.766067786898015, 108.99277689151481]\n"
     ]
    }
   ],
   "source": [
    "val = list(autovalor)\n",
    "val.reverse()\n",
    "print('Autovalores em ordem decrescente')\n",
    "print(val)"
   ]
  },
  {
   "cell_type": "markdown",
   "metadata": {},
   "source": [
    "O traço da matriz de covariância é igual a soma dos autovalores"
   ]
  },
  {
   "cell_type": "code",
   "execution_count": 8,
   "metadata": {},
   "outputs": [
    {
     "name": "stdout",
     "output_type": "stream",
     "text": [
      "Traço da matriz de covariância\n",
      "118.39221014492753\n",
      "Soma de todos os autovalores\n",
      "118.3922101449276\n"
     ]
    }
   ],
   "source": [
    "print('Traço da matriz de covariância')\n",
    "print(np.trace(cov))\n",
    "\n",
    "print('Soma de todos os autovalores')\n",
    "print(sum(autovalor))\n"
   ]
  },
  {
   "cell_type": "markdown",
   "metadata": {},
   "source": [
    "A equação dos componentes principais é mostrada a seguir:"
   ]
  },
  {
   "cell_type": "code",
   "execution_count": 9,
   "metadata": {},
   "outputs": [
    {
     "name": "stdout",
     "output_type": "stream",
     "text": [
      "Y = [[-0.78838911  0.58276295  0.1957206  -0.02287773]]X1 + [[ 0.22921536  0.57071056 -0.78485716 -0.07582228]]X2[[-0.5701868  -0.57778339 -0.58202768 -0.04792865]]X3 + [[-0.02810589  0.02903718 -0.08328544  0.995706  ]]X4\n"
     ]
    }
   ],
   "source": [
    "print('Y = ' + str(autovetor[:,0].T) + 'X1' + ' + ' + str(autovetor[:,1].T) + 'X2' + \n",
    "      str(autovetor[:,2].T) + 'X3' + ' + ' + str(autovetor[:,3].T) + 'X4')"
   ]
  },
  {
   "cell_type": "markdown",
   "metadata": {},
   "source": [
    "O percentual de variância é obtido com o trecho de código abaixo"
   ]
  },
  {
   "cell_type": "code",
   "execution_count": 10,
   "metadata": {},
   "outputs": [
    {
     "name": "stdout",
     "output_type": "stream",
     "text": [
      "[0.9206076713838972, 0.07404260614923226, 0.0004234018438705113, 0.004926320623000102]\n"
     ]
    }
   ],
   "source": [
    "autoval = []\n",
    "var = sum(autovalor)\n",
    "for i in range(len(autovalor)):\n",
    "    autoval.append(autovalor[i]/var)\n",
    "\n",
    "print(autoval)"
   ]
  },
  {
   "cell_type": "markdown",
   "metadata": {},
   "source": [
    "Sendo assim, de acordo com a sequência dos dados da tabela inicial, os componentes mais importantes em ordem decrescente são: Areia, sedimentos, matéria orgânica e argila"
   ]
  }
 ],
 "metadata": {
  "kernelspec": {
   "display_name": "Python 3",
   "language": "python",
   "name": "python3"
  },
  "language_info": {
   "codemirror_mode": {
    "name": "ipython",
    "version": 3
   },
   "file_extension": ".py",
   "mimetype": "text/x-python",
   "name": "python",
   "nbconvert_exporter": "python",
   "pygments_lexer": "ipython3",
   "version": "3.6.3"
  }
 },
 "nbformat": 4,
 "nbformat_minor": 2
}
