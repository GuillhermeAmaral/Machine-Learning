{
 "cells": [
  {
   "cell_type": "markdown",
   "metadata": {},
   "source": [
    "## Bibliotecas utilizadas"
   ]
  },
  {
   "cell_type": "code",
   "execution_count": 1,
   "metadata": {
    "collapsed": true
   },
   "outputs": [],
   "source": [
    "import numpy as np\n",
    "from matplotlib import pyplot as plt\n",
    "import time"
   ]
  },
  {
   "cell_type": "markdown",
   "metadata": {},
   "source": [
    "## Funções utilizadas"
   ]
  },
  {
   "cell_type": "code",
   "execution_count": 2,
   "metadata": {
    "collapsed": true
   },
   "outputs": [],
   "source": [
    "def d_euclidiana(x, w):\n",
    "    '''\n",
    "    Calcula a distância euclidiana entre os vetores x e w\n",
    "    '''\n",
    "    d = np.sqrt(sum(np.power(np.subtract(x, w),2)))\n",
    "    return d\n",
    "\n",
    "def BMU(x, w, net):\n",
    "    '''\n",
    "    Best Matching Unit (BMU) calcula qual é o neurônio com menor distância \n",
    "    euclidiana em relação ao dado de entrada x.\n",
    "    Esta função retorna dois parâmetros: 'menor' é o menor valor de distância \n",
    "    encontrado e 'index' é a posição do neurônio na grade 2D.\n",
    "    '''\n",
    "    index = (0,0)\n",
    "    all_d = np.zeros((net[0], net[1])) ###(10x10)\n",
    "    menor = np.zeros((1,2))\n",
    "    for i in range(net[0]):\n",
    "        for j in range(net[1]):\n",
    "            all_d[i][j] = d_euclidiana(x, w[i,j,:])\n",
    "            if i==0 and j==0:\n",
    "                menor = all_d[0][0]\n",
    "            elif all_d[i][j] < menor:\n",
    "                    menor = all_d[i][j]\n",
    "                    index = (i,j)\n",
    "    return index#, menor\n",
    "\n",
    "def raio(epoca_atual, sigma_atual, tau1, index, net, x, w, eta):\n",
    "    '''\n",
    "    Calcula os pesos que serão atualizados com base no tamanho da vizinhança.\n",
    "    Faz múltiplas chamadas a função refresh_w e\n",
    "    Atualiza o valor dos pesos de aprendizagem\n",
    "    '''\n",
    "    #sigma_int = int(sigma_atual)\n",
    "    eixo_x_min = int(np.floor(np.clip(index[0] - sigma, 0, net[0])))\n",
    "    eixo_x_max = int(np.ceil(np.clip(index[0] + sigma, 0, net[0])))\n",
    "    eixo_y_min = int(np.floor(np.clip(index[1] - sigma, 0, net[1])))\n",
    "    eixo_y_max = int(np.ceil(np.clip(index[1] + sigma, 0, net[1])))\n",
    "    if(sigma_atual > 1):\n",
    "        for i in range(eixo_x_min, eixo_x_max):\n",
    "            for j in range(eixo_y_min, eixo_y_max):\n",
    "                d = d_euclidiana([index[0], index[1]], [i, j])\n",
    "                if d < sigma:\n",
    "                    D = np.subtract(x,w[i,j,:])\n",
    "                    w[i,j,:] = refresh_w(w[i,j,:], d, sigma, eta, D)\n",
    "    else:\n",
    "        D = np.subtract(x,w[index[0],index[1],:])\n",
    "        w[index[0], index[1], :] = refresh_w(w[index[0],index[1],:], 0, sigma, eta, D)\n",
    "    return w\n",
    "\n",
    "def refresh_w(w, d, sigma, eta, D):\n",
    "    '''\n",
    "    Atualiza o valor do peso passado como parâmetro\n",
    "    '''\n",
    "    viz = np.power(np.e, -(d**2)/(2*sigma**2))\n",
    "    w = np.add(w, viz*eta*D)\n",
    "    return w\n",
    "\n",
    "def treino(x, w, net, dim, epocas, eta, sigma, tau1, tau2):\n",
    "    '''\n",
    "    Treina a rede\n",
    "    passa o valor atual da epoca e do neurônio que foi ativado para raio()\n",
    "    '''\n",
    "    k = 0\n",
    "    while k < epocas: \n",
    "        for i in range(len(x)):\n",
    "            index = BMU(x[i,:], w, net)#pega o index do melhor neuronio para x\n",
    "            w = raio(i, sigma, tau1, index, net, x[i,:], w, eta)\n",
    "        print('Epoca', k, 'Sigma: ', sigma, 'eta: ', eta)        \n",
    "        k = k + 1\n",
    "        eta = eta * np.power(np.e, -k/tau2)\n",
    "        sigma = sigma * np.power(np.e, -k/tau1)\n",
    "    return w"
   ]
  },
  {
   "cell_type": "markdown",
   "metadata": {},
   "source": [
    "## Parâmetros da Rede"
   ]
  },
  {
   "cell_type": "code",
   "execution_count": 4,
   "metadata": {},
   "outputs": [],
   "source": [
    "eta = 0.2 #Taxa de aprendizagem\n",
    "tau2 = 8000 #ajusta da taxa de aprendizagem botar 1000\n",
    "sigma = 6 #Tamanho inicial da vizinhança (sempre inteiro)\n",
    "tau1 = 8000/np.log10(sigma) #ajusta na vizinhança\n",
    "net = [10, 10]\n",
    "epocas = 300##Quantidade de vezes que os padrões de entrada serão aplicados na rede"
   ]
  },
  {
   "cell_type": "markdown",
   "metadata": {},
   "source": [
    "## Criação de Parâmetros de Entrada"
   ]
  },
  {
   "cell_type": "code",
   "execution_count": 5,
   "metadata": {
    "collapsed": true
   },
   "outputs": [],
   "source": [
    "dim = 8\n",
    "w = np.random.uniform(-1, 1, (net[0], net[1], dim))\n",
    "N = 100\n",
    "train_data = np.random.randn(4*N,8)\n",
    "m1 = np.array([0,0,0,0,0,0,0,0])\n",
    "m2 = np.array([4,0,0,0,0,0,0,0])\n",
    "m3 = np.array([0,0,0,4,0,0,0,0])\n",
    "m4 = np.array([0,0,0,0,0,0,0,4])\n",
    "m = np.array([m1, m2, m3, m4])\n",
    "for j in range(4):\n",
    "    for i in range(N):\n",
    "        train_data[i+N*j] = np.add(train_data[i+N*j], m[j])\n",
    "np.random.shuffle(train_data)"
   ]
  },
  {
   "cell_type": "markdown",
   "metadata": {},
   "source": [
    "A biblioteca time é utilizada apenas para medir o tempo que leva para o treinamento da rede, que é feito a seguir."
   ]
  },
  {
   "cell_type": "code",
   "execution_count": 6,
   "metadata": {},
   "outputs": [
    {
     "name": "stdout",
     "output_type": "stream",
     "text": [
      "START\n",
      "Epoca 0 Sigma:  6 eta:  0.2\n",
      "Epoca 1 Sigma:  5.999416414945013 eta:  0.19997500156243492\n",
      "Epoca 2 Sigma:  5.998249415115275 eta:  0.19992501406074237\n",
      "Epoca 3 Sigma:  5.996499340988456 eta:  0.19985005623594015\n",
      "Epoca 4 Sigma:  5.994166703074103 eta:  0.1997501561849162\n",
      "Epoca 5 Sigma:  5.991252181665447 eta:  0.19962535134287643\n",
      "Epoca 6 Sigma:  5.987756626508751 eta:  0.19947568845996583\n",
      "Epoca 7 Sigma:  5.9836810563904 eta:  0.19930122357208305\n",
      "Epoca 8 Sigma:  5.979026658642048 eta:  0.1991020219659142\n",
      "Epoca 9 Sigma:  5.973794788564122 eta:  0.19887815813821627\n",
      "Epoca 10 Sigma:  5.967986968768109 eta:  0.1986297157493858\n",
      "Epoca 11 Sigma:  5.961604888438042 eta:  0.19835678757135317\n",
      "Epoca 12 Sigma:  5.954650402511711 eta:  0.19805947542984828\n",
      "Epoca 13 Sigma:  5.9471255307821425 eta:  0.19773789014108742\n",
      "Epoca 14 Sigma:  5.939032456919954 eta:  0.1973921514429368\n",
      "Epoca 15 Sigma:  5.930373527417261 eta:  0.1970223879206126\n",
      "Epoca 16 Sigma:  5.92115125045383 eta:  0.19662873692698202\n",
      "Epoca 17 Sigma:  5.911368294686265 eta:  0.1962113444975341\n",
      "Epoca 18 Sigma:  5.90102748796103 eta:  0.1957703652600949\n",
      "Epoca 19 Sigma:  5.89013181595219 eta:  0.1953059623393641\n",
      "Epoca 20 Sigma:  5.878684420724776 eta:  0.19481830725635643\n",
      "Epoca 21 Sigma:  5.866688599224753 eta:  0.19430757982283423\n",
      "Epoca 22 Sigma:  5.8541478016966 eta:  0.193773968030822\n",
      "Epoca 23 Sigma:  5.841065630029561 eta:  0.19321766793729844\n",
      "Epoca 24 Sigma:  5.827445836033698 eta:  0.19263888354416447\n",
      "Epoca 25 Sigma:  5.813292319646868 eta:  0.19203782667359048\n",
      "Epoca 26 Sigma:  5.798609127073854 eta:  0.19141471683884914\n",
      "Epoca 27 Sigma:  5.783400448858873 eta:  0.19076978111074416\n",
      "Epoca 28 Sigma:  5.76767061789276 eta:  0.19010325397974878\n",
      "Epoca 29 Sigma:  5.751424107356138 eta:  0.18941537721397086\n",
      "Epoca 30 Sigma:  5.734665528599961 eta:  0.18870639971306546\n",
      "Epoca 31 Sigma:  5.717399628964815 eta:  0.18797657735821788\n",
      "Epoca 32 Sigma:  5.699631289540437 eta:  0.18722617285832385\n",
      "Epoca 33 Sigma:  5.6813655228669235 eta:  0.1864554555924967\n",
      "Epoca 34 Sigma:  5.662607470579141 eta:  0.18566470144903283\n",
      "Epoca 35 Sigma:  5.643362400995898 eta:  0.1848541926609705\n",
      "Epoca 36 Sigma:  5.623635706655442 eta:  0.18402421763837934\n",
      "Epoca 37 Sigma:  5.603432901798921 eta:  0.18317507079751927\n",
      "Epoca 38 Sigma:  5.582759619803422 eta:  0.18230705238701087\n",
      "Epoca 39 Sigma:  5.561621610566287 eta:  0.18142046831116043\n",
      "Epoca 40 Sigma:  5.540024737842379 eta:  0.1805156299505852\n",
      "Epoca 41 Sigma:  5.517974976536044 eta:  0.17959285398028543\n",
      "Epoca 42 Sigma:  5.495478409949505 eta:  0.17865246218531214\n",
      "Epoca 43 Sigma:  5.472541226989465 eta:  0.1776947812741803\n",
      "Epoca 44 Sigma:  5.4491697193337085 eta:  0.17672014269017852\n",
      "Epoca 45 Sigma:  5.4253702785595195 eta:  0.17572888242072726\n",
      "Epoca 46 Sigma:  5.401149393235741 eta:  0.174721340804939\n",
      "Epoca 47 Sigma:  5.376513645980336 eta:  0.1736978623395337\n",
      "Epoca 48 Sigma:  5.351469710485297 eta:  0.172658795483264\n",
      "Epoca 49 Sigma:  5.326024348510801 eta:  0.1716044924600054\n",
      "Epoca 50 Sigma:  5.300184406850481 eta:  0.17053530906066575\n",
      "Epoca 51 Sigma:  5.273956814269736 eta:  0.16945160444406968\n",
      "Epoca 52 Sigma:  5.247348578418968 eta:  0.168353740936973\n",
      "Epoca 53 Sigma:  5.220366782723686 eta:  0.16724208383336206\n",
      "Epoca 54 Sigma:  5.193018583253384 eta:  0.16611700119319234\n",
      "Epoca 55 Sigma:  5.165311205571135 eta:  0.1649788636407208\n",
      "Epoca 56 Sigma:  5.137251941565827 eta:  0.16382804416258495\n",
      "Epoca 57 Sigma:  5.108848146268978 eta:  0.16266491790578153\n",
      "Epoca 58 Sigma:  5.0801072346580645 eta:  0.16148986197569645\n",
      "Epoca 59 Sigma:  5.0510366784482965 eta:  0.16030325523433644\n",
      "Epoca 60 Sigma:  5.021644002874773 eta:  0.15910547809891182\n",
      "Epoca 61 Sigma:  4.991936783466938 eta:  0.15789691234091832\n",
      "Epoca 62 Sigma:  4.961922642817272 eta:  0.15667794088586454\n",
      "Epoca 63 Sigma:  4.9316092473461035 eta:  0.1554489476137894\n",
      "Epoca 64 Sigma:  4.901004304064488 eta:  0.15421031716071343\n",
      "Epoca 65 Sigma:  4.870115557337008 eta:  0.152962434721164\n",
      "Epoca 66 Sigma:  4.838950785646409 eta:  0.15170568585191446\n",
      "Epoca 67 Sigma:  4.807517798361922 eta:  0.15044045627707345\n",
      "Epoca 68 Sigma:  4.775824432513139 eta:  0.14916713169465945\n",
      "Epoca 69 Sigma:  4.7438785495712805 eta:  0.14788609758479265\n",
      "Epoca 70 Sigma:  4.71168803223968 eta:  0.14659773901963385\n",
      "Epoca 71 Sigma:  4.679260781255287 eta:  0.14530244047519766\n",
      "Epoca 72 Sigma:  4.6466047122029845 eta:  0.14400058564516427\n",
      "Epoca 73 Sigma:  4.613727752344472 eta:  0.14269255725681151\n",
      "Epoca 74 Sigma:  4.580637837463475 eta:  0.14137873688918587\n",
      "Epoca 75 Sigma:  4.547342908728988 eta:  0.14005950479362797\n",
      "Epoca 76 Sigma:  4.513850909578255 eta:  0.13873523971676555\n",
      "Epoca 77 Sigma:  4.480169782621157 eta:  0.13740631872608278\n",
      "Epoca 78 Sigma:  4.446307466567645 eta:  0.13607311703817243\n",
      "Epoca 79 Sigma:  4.4122718931798435 eta:  0.13473600784977371\n",
      "Epoca 80 Sigma:  4.378070984250409 eta:  0.13339536217169506\n",
      "Epoca 81 Sigma:  4.343712648608703 eta:  0.13205154866571783\n",
      "Epoca 82 Sigma:  4.309204779156298 eta:  0.1307049334845734\n",
      "Epoca 83 Sigma:  4.27455524993333 eta:  0.12935588011508248\n",
      "Epoca 84 Sigma:  4.239771913217144 eta:  0.1280047492245417\n",
      "Epoca 85 Sigma:  4.204862596654667 eta:  0.1266518985104392\n",
      "Epoca 86 Sigma:  4.169835100429914 eta:  0.1252976825535768\n",
      "Epoca 87 Sigma:  4.134697194467972 eta:  0.12394245267467258\n",
      "Epoca 88 Sigma:  4.099456615676792 eta:  0.1225865567945146\n",
      "Epoca 89 Sigma:  4.06412106522809 eta:  0.12123033929773148\n",
      "Epoca 90 Sigma:  4.028698205878581 eta:  0.11987414090024269\n",
      "Epoca 91 Sigma:  3.9931956593327858 eta:  0.11851829852044707\n",
      "Epoca 92 Sigma:  3.9576210036485633 eta:  0.1171631451542043\n",
      "Epoca 93 Sigma:  3.921981770686522 eta:  0.11580900975366003\n",
      "Epoca 94 Sigma:  3.8862854436043888 eta:  0.11445621710996164\n",
      "Epoca 95 Sigma:  3.8505394543974014 eta:  0.1131050877399076\n",
      "Epoca 96 Sigma:  3.8147511814857338 eta:  0.11175593777656945\n",
      "Epoca 97 Sigma:  3.778927947349931 eta:  0.11040907886392144\n",
      "Epoca 98 Sigma:  3.743077016215284 eta:  0.10906481805550934\n",
      "Epoca 99 Sigma:  3.707205591786033 eta:  0.10772345771718549\n",
      "Epoca 100 Sigma:  3.6713208150302483 eta:  0.10638529543393369\n",
      "Epoca 101 Sigma:  3.6354297620161984 eta:  0.10505062392080369\n",
      "Epoca 102 Sigma:  3.5995394418009616 eta:  0.10371973093797103\n",
      "Epoca 103 Sigma:  3.5636567943720063 eta:  0.10239289920993414\n",
      "Epoca 104 Sigma:  3.527788688642417 eta:  0.10107040634885732\n",
      "Epoca 105 Sigma:  3.4919419205003983 eta:  0.09975252478206398\n",
      "Epoca 106 Sigma:  3.456123210913651 eta:  0.09843952168368109\n",
      "Epoca 107 Sigma:  3.4203392040891645 eta:  0.09713165891043223\n",
      "Epoca 108 Sigma:  3.3845964656889413 eta:  0.09582919294157301\n",
      "Epoca 109 Sigma:  3.3489014811020983 eta:  0.0945323748229589\n",
      "Epoca 110 Sigma:  3.3132606537737823 eta:  0.09324145011523247\n",
      "Epoca 111 Sigma:  3.277680303591264 eta:  0.09195665884611318\n",
      "Epoca 112 Sigma:  3.2421666653275483 eta:  0.09067823546676998\n",
      "Epoca 113 Sigma:  3.2067258871427953 eta:  0.08940640881225322\n",
      "Epoca 114 Sigma:  3.171364029143795 eta:  0.08814140206595954\n",
      "Epoca 115 Sigma:  3.136087062001707 eta:  0.08688343272810015\n",
      "Epoca 116 Sigma:  3.1009008656282293 eta:  0.08563271258813973\n",
      "Epoca 117 Sigma:  3.0658112279103196 eta:  0.08438944770117046\n",
      "Epoca 118 Sigma:  3.0308238435035535 eta:  0.08315383836818238\n",
      "Epoca 119 Sigma:  2.99594431268416 eta:  0.08192607912018891\n",
      "Epoca 120 Sigma:  2.96117814025974 eta:  0.08070635870616327\n",
      "Epoca 121 Sigma:  2.926530734538623 eta:  0.07949486008473895\n",
      "Epoca 122 Sigma:  2.892007406357793 eta:  0.07829176041962496\n",
      "Epoca 123 Sigma:  2.8576133681692686 eta:  0.0770972310786838\n",
      "Epoca 124 Sigma:  2.823353733184768 eta:  0.07591143763661802\n",
      "Epoca 125 Sigma:  2.789233514578493 eta:  0.0747345398812087\n",
      "Epoca 126 Sigma:  2.7552576247477782 eta:  0.07356669182304697\n",
      "Epoca 127 Sigma:  2.72143087463136 eta:  0.0724080417086976\n",
      "Epoca 128 Sigma:  2.68775797308495 eta:  0.07125873203723189\n",
      "Epoca 129 Sigma:  2.654243526313786 eta:  0.07011889958006447\n",
      "Epoca 130 Sigma:  2.6208920373617883 eta:  0.06898867540402771\n",
      "Epoca 131 Sigma:  2.587707905656915 eta:  0.06786818489761486\n",
      "Epoca 132 Sigma:  2.554695426612281 eta:  0.06675754780032168\n",
      "Epoca 133 Sigma:  2.5218587912825696 eta:  0.06565687823501526\n",
      "Epoca 134 Sigma:  2.489202086075239 eta:  0.06456628474325606\n"
     ]
    },
    {
     "name": "stdout",
     "output_type": "stream",
     "text": [
      "Epoca 135 Sigma:  2.4567292925159907 eta:  0.06348587032349924\n",
      "Epoca 136 Sigma:  2.4244442870679346 eta:  0.062415732472099104\n",
      "Epoca 137 Sigma:  2.3923508410038683 eta:  0.06135596322703947\n",
      "Epoca 138 Sigma:  2.360452620331044 eta:  0.06030664921431218\n",
      "Epoca 139 Sigma:  2.32875318576778 eta:  0.05926787169686435\n",
      "Epoca 140 Sigma:  2.2972559927712473 eta:  0.05823970662603447\n",
      "Epoca 141 Sigma:  2.2659643916157255 eta:  0.05722222469539656\n",
      "Epoca 142 Sigma:  2.2348816275206134 eta:  0.05621549139693085\n",
      "Epoca 143 Sigma:  2.204010840827439 eta:  0.05521956707943881\n",
      "Epoca 144 Sigma:  2.173355067225106 eta:  0.05423450700912006\n",
      "Epoca 145 Sigma:  2.142917238022579 eta:  0.05326036143222792\n",
      "Epoca 146 Sigma:  2.1127001804682006 eta:  0.052297175639720334\n",
      "Epoca 147 Sigma:  2.0827066181147957 eta:  0.05134499003382249\n",
      "Epoca 148 Sigma:  2.052939171229726 eta:  0.05040384019641731\n",
      "Epoca 149 Sigma:  2.0234003572490065 eta:  0.049473756959179986\n",
      "Epoca 150 Sigma:  1.9940925912746106 eta:  0.048554766475372636\n",
      "Epoca 151 Sigma:  1.9650181866140461 eta:  0.04764689029321533\n",
      "Epoca 152 Sigma:  1.9361793553612887 eta:  0.04675014543074996\n",
      "Epoca 153 Sigma:  1.907578209018135 eta:  0.045864544452113486\n",
      "Epoca 154 Sigma:  1.8792167591550262 eta:  0.044990095545137596\n",
      "Epoca 155 Sigma:  1.8510969181103802 eta:  0.044126802600192264\n",
      "Epoca 156 Sigma:  1.8232204997274581 eta:  0.04327466529019092\n",
      "Epoca 157 Sigma:  1.7955892201277803 eta:  0.04243367915167576\n",
      "Epoca 158 Sigma:  1.7682046985200983 eta:  0.041603835666902296\n",
      "Epoca 159 Sigma:  1.7410684580439169 eta:  0.04078512234684276\n",
      "Epoca 160 Sigma:  1.7141819266465554 eta:  0.03997752281502897\n",
      "Epoca 161 Sigma:  1.6875464379927285 eta:  0.039181016892155966\n",
      "Epoca 162 Sigma:  1.6611632324056214 eta:  0.03839558068136861\n",
      "Epoca 163 Sigma:  1.635033457838426 eta:  0.03762118665415432\n",
      "Epoca 164 Sigma:  1.6091581708753055 eta:  0.03685780373676606\n",
      "Epoca 165 Sigma:  1.583538337760746 eta:  0.03610539739710088\n",
      "Epoca 166 Sigma:  1.5581748354562506 eta:  0.03536392973196025\n",
      "Epoca 167 Sigma:  1.5330684527233371 eta:  0.03463335955461973\n",
      "Epoca 168 Sigma:  1.5082198912317877 eta:  0.03391364248263653\n",
      "Epoca 169 Sigma:  1.4836297666921083 eta:  0.033204731025825183\n",
      "Epoca 170 Sigma:  1.4592986100111507 eta:  0.032506574674332246\n",
      "Epoca 171 Sigma:  1.4352268684698535 eta:  0.03181911998674285\n",
      "Epoca 172 Sigma:  1.411414906922059 eta:  0.03114231067815294\n",
      "Epoca 173 Sigma:  1.387863009013368 eta:  0.03047608770814261\n",
      "Epoca 174 Sigma:  1.3645713784189948 eta:  0.02982038936858735\n",
      "Epoca 175 Sigma:  1.3415401400995928 eta:  0.029175151371245527\n",
      "Epoca 176 Sigma:  1.3187693415740216 eta:  0.02854030693506186\n",
      "Epoca 177 Sigma:  1.2962589542080374 eta:  0.02791578687312828\n",
      "Epoca 178 Sigma:  1.2740088745178912 eta:  0.027301519679245087\n",
      "Epoca 179 Sigma:  1.2520189254878265 eta:  0.02669743161402686\n",
      "Epoca 180 Sigma:  1.2302888579004794 eta:  0.026103446790499255\n",
      "Epoca 181 Sigma:  1.2088183516791877 eta:  0.025519487259134378\n",
      "Epoca 182 Sigma:  1.1876070172412283 eta:  0.024945473092274156\n",
      "Epoca 183 Sigma:  1.1666543968610092 eta:  0.02438132246789263\n",
      "Epoca 184 Sigma:  1.145959966042256 eta:  0.02382695175264996\n",
      "Epoca 185 Sigma:  1.1255231348982382 eta:  0.023282275584192352\n",
      "Epoca 186 Sigma:  1.1053432495390987 eta:  0.02274720695265412\n",
      "Epoca 187 Sigma:  1.0854195934653548 eta:  0.022221657281319425\n",
      "Epoca 188 Sigma:  1.0657513889666579 eta:  0.02170553650640323\n",
      "Epoca 189 Sigma:  1.0463377985249058 eta:  0.021198753155912523\n",
      "Epoca 190 Sigma:  1.0271779262208196 eta:  0.02070121442755062\n",
      "Epoca 191 Sigma:  1.0082708191431087 eta:  0.020212826265629005\n",
      "Epoca 192 Sigma:  0.9896154687993616 eta:  0.019733493436952923\n",
      "Epoca 193 Sigma:  0.9712108125278154 eta:  0.01926311960564853\n",
      "Epoca 194 Sigma:  0.9530557349091713 eta:  0.018801607406901153\n",
      "Epoca 195 Sigma:  0.9351490691776398 eta:  0.018348858519575816\n",
      "Epoca 196 Sigma:  0.9174895986304133 eta:  0.01790477373769291\n",
      "Epoca 197 Sigma:  0.9000760580347807 eta:  0.017469253040733417\n",
      "Epoca 198 Sigma:  0.8829071350321159 eta:  0.017042195662749844\n",
      "Epoca 199 Sigma:  0.865981471537987 eta:  0.01662350016026053\n",
      "Epoca 200 Sigma:  0.8492976651376498 eta:  0.01621306447890667\n",
      "Epoca 201 Sigma:  0.8328542704762091 eta:  0.01581078601885288\n",
      "Epoca 202 Sigma:  0.8166498006427444 eta:  0.015416561698913764\n",
      "Epoca 203 Sigma:  0.8006827285477179 eta:  0.015030288019390435\n",
      "Epoca 204 Sigma:  0.7849514882929985 eta:  0.01465186112360246\n",
      "Epoca 205 Sigma:  0.7694544765338528 eta:  0.0142811768581022\n",
      "Epoca 206 Sigma:  0.7541900538322748 eta:  0.013918130831559948\n",
      "Epoca 207 Sigma:  0.7391565460010413 eta:  0.013562618472309756\n",
      "Epoca 208 Sigma:  0.7243522454379002 eta:  0.013214535084547206\n",
      "Epoca 209 Sigma:  0.7097754124493159 eta:  0.012873775903171802\n",
      "Epoca 210 Sigma:  0.6954242765632157 eta:  0.012540236147268\n",
      "Epoca 211 Sigma:  0.6812970378301997 eta:  0.012213811072220212\n",
      "Epoca 212 Sigma:  0.6673918681126934 eta:  0.011894396020458452\n",
      "Epoca 213 Sigma:  0.6537069123615424 eta:  0.011581886470832524\n",
      "Epoca 214 Sigma:  0.6402402898795688 eta:  0.011276178086613917\n",
      "Epoca 215 Sigma:  0.6269900955716222 eta:  0.010977166762125767\n",
      "Epoca 216 Sigma:  0.6139544011806837 eta:  0.01068474866800242\n",
      "Epoca 217 Sigma:  0.6011312565095938 eta:  0.010398820295081285\n",
      "Epoca 218 Sigma:  0.5885186906279976 eta:  0.01011927849693075\n",
      "Epoca 219 Sigma:  0.5761147130641172 eta:  0.009846020531019045\n",
      "Epoca 220 Sigma:  0.5639173149809797 eta:  0.009578944098529944\n",
      "Epoca 221 Sigma:  0.5519244703367484 eta:  0.009317947382832249\n",
      "Epoca 222 Sigma:  0.5401341370288217 eta:  0.009062929086610922\n",
      "Epoca 223 Sigma:  0.5285442580213835 eta:  0.008813788467668716\n",
      "Epoca 224 Sigma:  0.5171527624561049 eta:  0.008570425373408047\n",
      "Epoca 225 Sigma:  0.5059575667457173 eta:  0.00833274027400372\n",
      "Epoca 226 Sigma:  0.4949565756501925 eta:  0.008100634294277964\n",
      "Epoca 227 Sigma:  0.4841476833352823 eta:  0.007874009244290025\n",
      "Epoca 228 Sigma:  0.4735287744131911 eta:  0.007652767648653363\n",
      "Epoca 229 Sigma:  0.46309772496516644 eta:  0.0074368127745941945\n",
      "Epoca 230 Sigma:  0.45285240354581435 eta:  0.007226048658765862\n",
      "Epoca 231 Sigma:  0.4427906721689593 eta:  0.007020380132834156\n",
      "Epoca 232 Sigma:  0.4329103872748868 eta:  0.006819712847849349\n",
      "Epoca 233 Sigma:  0.42320940067882284 eta:  0.006623953297421327\n",
      "Epoca 234 Sigma:  0.4136855605005187 eta:  0.006433008839714726\n",
      "Epoca 235 Sigma:  0.4043367120748272 eta:  0.00624678771828157\n",
      "Epoca 236 Sigma:  0.3951606988431708 eta:  0.006065199081749358\n",
      "Epoca 237 Sigma:  0.38615536322581645 eta:  0.005888153002383059\n",
      "Epoca 238 Sigma:  0.37731854747488885 eta:  0.0057155604935398814\n",
      "Epoca 239 Sigma:  0.368648094508066 eta:  0.005547333526036102\n",
      "Epoca 240 Sigma:  0.3601418487229173 eta:  0.005383385043445632\n",
      "Epoca 241 Sigma:  0.3517976567918566 eta:  0.005223628976350309\n",
      "Epoca 242 Sigma:  0.3436133684376972 eta:  0.005067980255562251\n",
      "Epoca 243 Sigma:  0.3355868371898099 eta:  0.004916354824338874\n",
      "Epoca 244 Sigma:  0.32771592112089626 eta:  0.0047686696496114485\n",
      "Epoca 245 Sigma:  0.3199984835644033 eta:  0.004624842732248294\n",
      "Epoca 246 Sigma:  0.31243239381261906 eta:  0.004484793116373895\n",
      "Epoca 247 Sigma:  0.305015527795498 eta:  0.0043484408977654395\n",
      "Epoca 248 Sigma:  0.2977457687402799 eta:  0.004215707231348378\n",
      "Epoca 249 Sigma:  0.2906210078119753 eta:  0.004086514337812765\n",
      "Epoca 250 Sigma:  0.2836391447348024 eta:  0.003960785509372222\n",
      "Epoca 251 Sigma:  0.2767980883946714 eta:  0.003838445114687435\n",
      "Epoca 252 Sigma:  0.27009575742282227 eta:  0.0037194186029761624\n",
      "Epoca 253 Sigma:  0.2635300807607321 eta:  0.0036036325073317355\n",
      "Epoca 254 Sigma:  0.2570989982064182 eta:  0.003491014447272055\n",
      "Epoca 255 Sigma:  0.2508004609422725 eta:  0.0033814931305410603\n",
      "Epoca 256 Sigma:  0.24463243204457205 eta:  0.003274998354184608\n",
      "Epoca 257 Sigma:  0.2385928869748188 eta:  0.0031714610049226456\n",
      "Epoca 258 Sigma:  0.23267981405307075 eta:  0.0030708130588394736\n",
      "Epoca 259 Sigma:  0.22689121491343456 eta:  0.0029729875804138076\n",
      "Epoca 260 Sigma:  0.22122510494189748 eta:  0.002877918720910221\n",
      "Epoca 261 Sigma:  0.21567951369668392 eta:  0.0027855417161534203\n",
      "Epoca 262 Sigma:  0.21025248531132917 eta:  0.0026957928837066597\n",
      "Epoca 263 Sigma:  0.2049420788806696 eta:  0.0026086096194754254\n"
     ]
    },
    {
     "name": "stdout",
     "output_type": "stream",
     "text": [
      "Epoca 264 Sigma:  0.199746368829955 eta:  0.002523930393757346\n",
      "Epoca 265 Sigma:  0.19466344526729545 eta:  0.002441694746759081\n",
      "Epoca 266 Sigma:  0.18969141431966 eta:  0.002361843283600734\n",
      "Epoca 267 Sigma:  0.1848283984526511 eta:  0.002284317668828108\n",
      "Epoca 268 Sigma:  0.18007253677428295 eta:  0.002209060620452891\n",
      "Epoca 269 Sigma:  0.1754219853229978 eta:  0.0021360159035405963\n",
      "Epoca 270 Sigma:  0.1708749173401577 eta:  0.0020651283233658366\n",
      "Epoca 271 Sigma:  0.16642952352725487 eta:  0.0019963437181542316\n",
      "Epoca 272 Sigma:  0.16208401228808683 eta:  0.0019296089514299702\n",
      "Epoca 273 Sigma:  0.1578366099561464 eta:  0.0018648719039877505\n",
      "Epoca 274 Sigma:  0.15368556100748057 eta:  0.0018020814655075358\n",
      "Epoca 275 Sigma:  0.1496291282592748 eta:  0.0017411875258302428\n",
      "Epoca 276 Sigma:  0.14566559305442245 eta:  0.0016821409659121694\n",
      "Epoca 277 Sigma:  0.14179325543234184 eta:  0.001624893648475649\n",
      "Epoca 278 Sigma:  0.13801043428630513 eta:  0.0015693984083730845\n",
      "Epoca 279 Sigma:  0.1343154675075463 eta:  0.0015156090426811874\n",
      "Epoca 280 Sigma:  0.1307067121164161 eta:  0.0014634803005418998\n",
      "Epoca 281 Sigma:  0.12718254438085433 eta:  0.0014129678727661423\n",
      "Epoca 282 Sigma:  0.12374135992245087 eta:  0.0013640283812161758\n",
      "Epoca 283 Sigma:  0.12038157381036754 eta:  0.0013166193679820146\n",
      "Epoca 284 Sigma:  0.11710162064339423 eta:  0.0012706992843669771\n",
      "Epoca 285 Sigma:  0.1138999546204131 eta:  0.0012262274796970985\n",
      "Epoca 286 Sigma:  0.11077504959954494 eta:  0.0011831641899687716\n",
      "Epoca 287 Sigma:  0.10772539914625204 eta:  0.001141470526348624\n",
      "Epoca 288 Sigma:  0.1047495165706717 eta:  0.0011011084635392718\n",
      "Epoca 289 Sigma:  0.10184593495445464 eta:  0.0010620408280242312\n",
      "Epoca 290 Sigma:  0.09901320716738136 eta:  0.001024231286204907\n",
      "Epoca 291 Sigma:  0.0962499058740297 eta:  0.000987644332442209\n",
      "Epoca 292 Sigma:  0.09355462353076513 eta:  0.0009522452770149876\n",
      "Epoca 293 Sigma:  0.0909259723733249 eta:  0.0009180002340071208\n",
      "Epoca 294 Sigma:  0.08836258439526563 eta:  0.0008848761091347185\n",
      "Epoca 295 Sigma:  0.08586311131754254 eta:  0.0008528405875245539\n",
      "Epoca 296 Sigma:  0.083426224549487 eta:  0.0008218621214544782\n",
      "Epoca 297 Sigma:  0.08105061514144742 eta:  0.0007919099180662137\n",
      "Epoca 298 Sigma:  0.07873499372935634 eta:  0.0007629539270605721\n",
      "Epoca 299 Sigma:  0.07647809047148499 eta:  0.0007349648283847967\n",
      "END\n",
      "441.74447083473206\n"
     ]
    }
   ],
   "source": [
    "start = time.time()\n",
    "print(\"START\")\n",
    "W_treinado = treino(train_data, w, net, dim, epocas, eta, sigma, tau1, tau2)\n",
    "end = time.time()\n",
    "print(\"END\")\n",
    "print(end - start)"
   ]
  },
  {
   "cell_type": "markdown",
   "metadata": {},
   "source": [
    "## Geração de Dados para Teste"
   ]
  },
  {
   "cell_type": "code",
   "execution_count": 7,
   "metadata": {
    "collapsed": true
   },
   "outputs": [],
   "source": [
    "x = []\n",
    "y = []\n",
    "t = np.zeros((2,1))\n",
    "for i in range(4):\n",
    "    index = BMU(m[i], W_treinado, net)\n",
    "    x.append(float(index[0]))\n",
    "    y.append(float(index[1]))\n",
    "\n",
    "n_test = 500\n",
    "test_data1 = np.random.randn(n_test,8)\n",
    "t1 = np.zeros((2,n_test))\n",
    "for i in range(len(test_data1)):\n",
    "    index = BMU(test_data1[i,:], W_treinado, net)\n",
    "    t1[0,i] = index[0]\n",
    "    t1[1,i] = index[1]\n",
    "\n",
    "test_data2 = np.add(np.random.randn(n_test,8), m[1])\n",
    "t2 = np.zeros((2,n_test))\n",
    "for i in range(len(test_data2)):\n",
    "    index = BMU(test_data2[i,:], W_treinado, net)\n",
    "    t2[0,i] = index[0]\n",
    "    t2[1,i] = index[1]\n",
    "\n",
    "test_data3 = np.add(np.random.randn(n_test,8), m[2])\n",
    "t3 = np.zeros((2,n_test))\n",
    "for i in range(len(test_data3)):\n",
    "    index = BMU(test_data3[i,:], W_treinado, net)\n",
    "    t3[0,i] = index[0]\n",
    "    t3[1,i] = index[1]\n",
    "\n",
    "test_data4 = np.add(np.random.randn(n_test,8), m[3])\n",
    "t4 = np.zeros((2,n_test))\n",
    "for i in range(len(test_data4)):\n",
    "    index = BMU(test_data4[i,:], W_treinado, net)\n",
    "    t4[0,i] = index[0]\n",
    "    t4[1,i] = index[1]"
   ]
  },
  {
   "cell_type": "markdown",
   "metadata": {},
   "source": [
    "O plot dos vetores média utilizados para a geração dos padrões de entrada é mostrado a seguir."
   ]
  },
  {
   "cell_type": "code",
   "execution_count": 10,
   "metadata": {},
   "outputs": [
    {
     "data": {
      "image/png": "[encoded data removed]",
      "text/plain": [
       "<matplotlib.figure.Figure at 0x16692ab69e8>"
      ]
     },
     "metadata": {},
     "output_type": "display_data"
    }
   ],
   "source": [
    "colors = ['black', 'green', 'violet', 'blue']\n",
    "for i in range(4):\n",
    "    plt.scatter(x[i], y[i], color=colors[i], marker='|')\n",
    "plt.show()"
   ]
  },
  {
   "cell_type": "markdown",
   "metadata": {},
   "source": [
    "O plot dos padrões de teste são mostrados a seguir:"
   ]
  },
  {
   "cell_type": "code",
   "execution_count": 11,
   "metadata": {},
   "outputs": [
    {
     "data": {
      "image/png": "[encoded data removed]",
      "text/plain": [
       "<matplotlib.figure.Figure at 0x1669301b630>"
      ]
     },
     "metadata": {},
     "output_type": "display_data"
    }
   ],
   "source": [
    "f, axarr = plt.subplots(2, 2)\n",
    "axarr[0, 0].scatter(t1[0,:], t1[1,:], color='black', marker='v')\n",
    "axarr[0, 0].set_title('m1 = (0,0,0,0,0,0,0,0)')\n",
    "axarr[0, 1].scatter(t2[0,:], t2[1,:], color='green', marker='1')\n",
    "axarr[0, 1].set_title('m2 = (4,0,0,0,0,0,0,0)')\n",
    "axarr[1, 0].scatter(t3[0,:], t3[1,:], color='violet', marker='x')\n",
    "axarr[1, 0].set_title('m3 = (0,0,0,4,0,0,0,0)')\n",
    "axarr[1, 1].scatter(t4[0,:], t4[1,:], color='blue', marker='+')\n",
    "axarr[1, 1].set_title('m4 = (0,0,0,0,0,0,0,4)')\n",
    "# Fine-tune figure; hide x ticks for top plots and y ticks for right plots\n",
    "plt.setp([a.get_xticklabels() for a in axarr[0, :]], visible=False)\n",
    "plt.setp([a.get_yticklabels() for a in axarr[:, 1]], visible=False)\n",
    "\n",
    "plt.show()"
   ]
  },
  {
   "cell_type": "markdown",
   "metadata": {},
   "source": [
    "Pode-se notar que apesar dos dados estarem separados ainda existe uma sobreposição de dados, isso se dá pelo fato da sobreposição das distribuições marginais nos quatro padrões de dados. Contudo, a rede apresenta um bom desempenho, como será mostrado a seguir.\n",
    "\n",
    "Imagine duas retas perpendiculares que separa a grade 10x10 em quatro grades menores 5x5. O padrão t3, que é mostrado em rosa na figura acima parece estar contido em X no intervalo [0,5] e Y no intervalo [0,5]. O código a seguir mostra quanto dos 500 dados de teste com média m3 foram ficaram dentro da grade 5x5 com os limites citados acima."
   ]
  },
  {
   "cell_type": "code",
   "execution_count": 12,
   "metadata": {},
   "outputs": [
    {
     "name": "stdout",
     "output_type": "stream",
     "text": [
      "Total de dados da C3: 500\n",
      "Quantidade de dados entre (x=0 e x=5), (y=0 e y=5) 484\n"
     ]
    }
   ],
   "source": [
    "axis_x = t3[0] < 5\n",
    "axis_y = t3[1] < 5\n",
    "cnt = 0\n",
    "for i in range(n_test):\n",
    "    if axis_x[i]==True and axis_y[i]==True:\n",
    "        cnt = cnt + 1\n",
    "print(\"Total de dados da C3: 500\")\n",
    "print(\"Quantidade de dados entre (x=0 e x=5), (y=0 e y=5)\", cnt)"
   ]
  },
  {
   "cell_type": "markdown",
   "metadata": {},
   "source": [
    "O resultado acima diz que dos 500 dados de teste com média m3, 484/500 ficaram dentro da mesma região 5x5. A seguir, o mesmo é feito para as outras entradas."
   ]
  },
  {
   "cell_type": "code",
   "execution_count": 13,
   "metadata": {},
   "outputs": [
    {
     "name": "stdout",
     "output_type": "stream",
     "text": [
      "Total de dados da C4: 500\n",
      "Quantidade de dados entre (x=0 e x=5), (y=5 e y=10) 454\n"
     ]
    }
   ],
   "source": [
    "axis_x = t4[0] < 5\n",
    "axis_y = t4[1] > 5\n",
    "cnt = 0\n",
    "for i in range(n_test):\n",
    "    if axis_x[i]==True and axis_y[i]==True:\n",
    "        cnt = cnt + 1\n",
    "print(\"Total de dados da C4: 500\")\n",
    "print(\"Quantidade de dados entre (x=0 e x=5), (y=5 e y=10)\", cnt)"
   ]
  },
  {
   "cell_type": "code",
   "execution_count": 14,
   "metadata": {},
   "outputs": [
    {
     "name": "stdout",
     "output_type": "stream",
     "text": [
      "Total de dados da C2: 500\n",
      "Quantidade de dados entre (x=5 e x=10), (y=0 e y=5) 462\n"
     ]
    }
   ],
   "source": [
    "axis_x = t2[0] > 5\n",
    "axis_y = t2[1] < 5\n",
    "cnt = 0\n",
    "for i in range(n_test):\n",
    "    if axis_x[i]==True and axis_y[i]==True:\n",
    "        cnt = cnt + 1\n",
    "print(\"Total de dados da C2: 500\")\n",
    "print(\"Quantidade de dados entre (x=5 e x=10), (y=0 e y=5)\", cnt)"
   ]
  },
  {
   "cell_type": "code",
   "execution_count": 15,
   "metadata": {},
   "outputs": [
    {
     "name": "stdout",
     "output_type": "stream",
     "text": [
      "Total de dados da C1: 500\n",
      "Quantidade de dados entre (x=5 e x=10), (y=5 e y=10) 281\n"
     ]
    }
   ],
   "source": [
    "axis_x = t1[0] > 5\n",
    "axis_y = t1[1] > 5\n",
    "cnt = 0\n",
    "for i in range(n_test):\n",
    "    if axis_x[i]==True and axis_y[i]==True:\n",
    "        cnt = cnt + 1\n",
    "print(\"Total de dados da C1: 500\")\n",
    "print(\"Quantidade de dados entre (x=5 e x=10), (y=5 e y=10)\", cnt)"
   ]
  },
  {
   "cell_type": "markdown",
   "metadata": {},
   "source": [
    "O desempenho do padrão com média m1 é muito pior em relação aos outros, mas isso se dá pelo fato desse padrão de entrada não possuir nenhuma distribuição marginal que dimi"
   ]
  }
 ],
 "metadata": {
  "kernelspec": {
   "display_name": "Python 3",
   "language": "python",
   "name": "python3"
  },
  "language_info": {
   "codemirror_mode": {
    "name": "ipython",
    "version": 3
   },
   "file_extension": ".py",
   "mimetype": "text/x-python",
   "name": "python",
   "nbconvert_exporter": "python",
   "pygments_lexer": "ipython3",
   "version": "3.6.3"
  }
 },
 "nbformat": 4,
 "nbformat_minor": 2
}
